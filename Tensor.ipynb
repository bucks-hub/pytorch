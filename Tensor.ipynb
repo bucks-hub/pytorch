{
  "nbformat": 4,
  "nbformat_minor": 0,
  "metadata": {
    "colab": {
      "provenance": [],
      "authorship_tag": "ABX9TyM4LMmaWDtg5EziuG3ffyc6",
      "include_colab_link": true
    },
    "kernelspec": {
      "name": "python3",
      "display_name": "Python 3"
    },
    "language_info": {
      "name": "python"
    }
  },
  "cells": [
    {
      "cell_type": "markdown",
      "metadata": {
        "id": "view-in-github",
        "colab_type": "text"
      },
      "source": [
        "<a href=\"https://colab.research.google.com/github/bucks-hub/pytorch/blob/main/Tensor.ipynb\" target=\"_parent\"><img src=\"https://colab.research.google.com/assets/colab-badge.svg\" alt=\"Open In Colab\"/></a>"
      ]
    },
    {
      "cell_type": "markdown",
      "source": [
        "A torch.Tesnor is a multim-dimensional matrix containing elements of single datatype.\n",
        "\n",
        "default datatype is **float32**\n",
        "\n",
        "\n",
        "\n",
        "*   Tensrs are more suitable for deep learning than numpy arrays.\n",
        "\n",
        "\n",
        "\n",
        "\n",
        "\n",
        "\n",
        "\n",
        "\n",
        "\n",
        "\n",
        "\n"
      ],
      "metadata": {
        "id": "NigsDBSDvFds"
      }
    },
    {
      "cell_type": "code",
      "source": [
        "import torch\n",
        "import numpy as np"
      ],
      "metadata": {
        "id": "CJFI2S9owENN"
      },
      "execution_count": 4,
      "outputs": []
    },
    {
      "cell_type": "code",
      "source": [
        "list = [[1,2,3,4], [5,6,7,8]]\n",
        "list"
      ],
      "metadata": {
        "colab": {
          "base_uri": "https://localhost:8080/"
        },
        "id": "bCD3JB9iyJvD",
        "outputId": "7bfd54fb-de1c-403e-af06-32e949ca8504"
      },
      "execution_count": 2,
      "outputs": [
        {
          "output_type": "execute_result",
          "data": {
            "text/plain": [
              "[[1, 2, 3, 4], [5, 6, 7, 8]]"
            ]
          },
          "metadata": {},
          "execution_count": 2
        }
      ]
    },
    {
      "cell_type": "code",
      "source": [
        "arry = np.random.rand(5,5)\n",
        "print(arry)\n",
        "arry.dtype"
      ],
      "metadata": {
        "colab": {
          "base_uri": "https://localhost:8080/"
        },
        "id": "yf-jLLKoyc6b",
        "outputId": "00c7c428-4e4e-4e0a-b78c-700406daf9dc"
      },
      "execution_count": 10,
      "outputs": [
        {
          "output_type": "stream",
          "name": "stdout",
          "text": [
            "[[0.86763235 0.85066394 0.37566367 0.94788767 0.13778174]\n",
            " [0.47172015 0.81182807 0.26756026 0.66822331 0.93881069]\n",
            " [0.77846298 0.09437478 0.29992178 0.48712126 0.37872536]\n",
            " [0.85829342 0.45836968 0.01684327 0.88639414 0.86802771]\n",
            " [0.51328046 0.64270258 0.95221625 0.98847749 0.64591472]]\n"
          ]
        },
        {
          "output_type": "execute_result",
          "data": {
            "text/plain": [
              "dtype('float64')"
            ]
          },
          "metadata": {},
          "execution_count": 10
        }
      ]
    },
    {
      "cell_type": "code",
      "source": [
        "tens2d = torch.randn(5,6)\n",
        "print(tens2d)\n",
        "print(tens2d.dtype)"
      ],
      "metadata": {
        "colab": {
          "base_uri": "https://localhost:8080/"
        },
        "id": "-0qjHTL3zavj",
        "outputId": "4017e2d0-e6e0-4652-ca41-fa3a93bc37e6"
      },
      "execution_count": 13,
      "outputs": [
        {
          "output_type": "stream",
          "name": "stdout",
          "text": [
            "tensor([[-0.1487, -0.5146, -0.4514, -0.9999, -0.2390,  0.3954],\n",
            "        [ 0.5128,  0.3092, -0.7064, -0.5680, -0.1412, -0.2022],\n",
            "        [ 1.7901,  0.8986, -0.6384, -1.0832,  0.1590,  1.8452],\n",
            "        [-0.4484, -0.2569, -0.1788, -1.2701, -0.1766, -1.0482],\n",
            "        [-0.0630, -0.4317, -1.0182,  0.1746,  1.8557,  1.7691]])\n",
            "torch.float32\n"
          ]
        }
      ]
    },
    {
      "cell_type": "code",
      "source": [
        "tens3d = torch.randn(3,7,8)\n",
        "print(tens3d)"
      ],
      "metadata": {
        "colab": {
          "base_uri": "https://localhost:8080/"
        },
        "id": "P98pkba-z3th",
        "outputId": "d71fa899-98ba-4231-ac0c-cddafd5dd0b3"
      },
      "execution_count": 14,
      "outputs": [
        {
          "output_type": "stream",
          "name": "stdout",
          "text": [
            "tensor([[[ 0.9544, -1.3801,  0.1705, -0.1603,  0.4655, -1.3136, -0.2520,\n",
            "          -0.1594],\n",
            "         [-0.3042,  0.2798, -1.6220,  0.5198,  1.3341, -1.4302,  0.3890,\n",
            "          -0.8381],\n",
            "         [ 1.1292,  1.9709, -1.7017,  0.1083,  1.9057, -0.5557, -0.4516,\n",
            "           0.9399],\n",
            "         [-0.0592, -0.1325, -0.4074, -0.0684,  1.0524, -0.3109,  1.0941,\n",
            "          -0.7505],\n",
            "         [ 0.6479,  0.4306, -0.0710, -0.9456, -1.0066,  0.8515, -1.0208,\n",
            "          -0.2133],\n",
            "         [ 0.9460, -0.1521,  0.0749,  2.2721,  0.4956, -0.5132, -1.3600,\n",
            "          -0.6173],\n",
            "         [ 0.4275,  1.3163,  0.3251,  1.1025, -0.1009,  0.1289,  2.3770,\n",
            "           2.1353]],\n",
            "\n",
            "        [[ 1.1936,  1.0977, -0.7911,  0.1893, -0.2184, -1.7526, -0.0054,\n",
            "          -0.5799],\n",
            "         [-1.4733,  0.8058, -0.4066, -1.4995, -1.0322,  0.7839, -0.1150,\n",
            "          -0.1444],\n",
            "         [ 0.0427, -0.0766,  0.6874, -0.2105,  0.6710, -0.0310,  0.1999,\n",
            "          -0.0715],\n",
            "         [-0.0099, -0.6189,  0.9046,  0.0062,  0.4903, -1.0106, -1.0642,\n",
            "           0.3098],\n",
            "         [-0.4713,  0.7772, -0.0451, -0.2090,  1.4252, -1.9785, -1.2091,\n",
            "          -0.2499],\n",
            "         [-0.3188,  0.6655,  0.9241,  0.8669, -0.3307, -0.6425,  1.1916,\n",
            "          -0.3295],\n",
            "         [ 0.8740,  0.8475,  1.8411, -0.3841, -2.0632, -2.5663,  2.6659,\n",
            "          -0.1296]],\n",
            "\n",
            "        [[ 0.6225,  0.6918,  0.3856, -0.7055, -1.6473, -0.4040, -0.9277,\n",
            "           1.6724],\n",
            "         [ 0.6422, -0.7343,  0.2925,  0.8102, -0.7205, -1.1545, -0.3667,\n",
            "          -0.6832],\n",
            "         [-2.5111, -0.1774,  0.7356,  1.0626, -0.5363, -1.6599, -1.3482,\n",
            "           0.4352],\n",
            "         [ 0.0454, -0.2599,  0.2197,  0.4365, -0.8885,  1.4115,  0.3224,\n",
            "           1.0083],\n",
            "         [-0.8644,  0.3249,  0.6281, -0.9406,  0.1241, -2.3356,  0.0940,\n",
            "          -1.4608],\n",
            "         [-0.9373,  1.2839, -0.3208,  0.9924, -0.1604,  1.5562, -0.5849,\n",
            "          -0.8765],\n",
            "         [ 1.5336, -0.1747, -0.8189, -0.1335, -1.5274, -0.5629,  0.4267,\n",
            "           0.4119]]])\n"
          ]
        }
      ]
    },
    {
      "cell_type": "code",
      "source": [
        "tens3d_1 = torch.zeros(3,7,8)\n",
        "print(tens3d_1)"
      ],
      "metadata": {
        "colab": {
          "base_uri": "https://localhost:8080/"
        },
        "id": "Ey-giWhZ0oP3",
        "outputId": "3e31e5e9-15c6-46d7-d185-2bec749253fd"
      },
      "execution_count": 15,
      "outputs": [
        {
          "output_type": "stream",
          "name": "stdout",
          "text": [
            "tensor([[[0., 0., 0., 0., 0., 0., 0., 0.],\n",
            "         [0., 0., 0., 0., 0., 0., 0., 0.],\n",
            "         [0., 0., 0., 0., 0., 0., 0., 0.],\n",
            "         [0., 0., 0., 0., 0., 0., 0., 0.],\n",
            "         [0., 0., 0., 0., 0., 0., 0., 0.],\n",
            "         [0., 0., 0., 0., 0., 0., 0., 0.],\n",
            "         [0., 0., 0., 0., 0., 0., 0., 0.]],\n",
            "\n",
            "        [[0., 0., 0., 0., 0., 0., 0., 0.],\n",
            "         [0., 0., 0., 0., 0., 0., 0., 0.],\n",
            "         [0., 0., 0., 0., 0., 0., 0., 0.],\n",
            "         [0., 0., 0., 0., 0., 0., 0., 0.],\n",
            "         [0., 0., 0., 0., 0., 0., 0., 0.],\n",
            "         [0., 0., 0., 0., 0., 0., 0., 0.],\n",
            "         [0., 0., 0., 0., 0., 0., 0., 0.]],\n",
            "\n",
            "        [[0., 0., 0., 0., 0., 0., 0., 0.],\n",
            "         [0., 0., 0., 0., 0., 0., 0., 0.],\n",
            "         [0., 0., 0., 0., 0., 0., 0., 0.],\n",
            "         [0., 0., 0., 0., 0., 0., 0., 0.],\n",
            "         [0., 0., 0., 0., 0., 0., 0., 0.],\n",
            "         [0., 0., 0., 0., 0., 0., 0., 0.],\n",
            "         [0., 0., 0., 0., 0., 0., 0., 0.]]])\n"
          ]
        }
      ]
    }
  ]
}